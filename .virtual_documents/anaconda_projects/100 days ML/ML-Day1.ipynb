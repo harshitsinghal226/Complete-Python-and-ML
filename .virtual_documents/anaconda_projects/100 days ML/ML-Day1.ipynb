


import pandas as pd


pd.read_csv('synthetic_personal_finance_dataset.csv')






