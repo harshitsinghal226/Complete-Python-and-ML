{
 "cells": [
  {
   "cell_type": "markdown",
   "id": "c8a3b8a1-96b1-4eeb-9635-caac47920cbd",
   "metadata": {},
   "source": [
    "# Python Intro\n",
    "-Data Types"
   ]
  },
  {
   "cell_type": "code",
   "execution_count": null,
   "id": "a235036e-2985-4613-b9b2-bcbd1a2102d7",
   "metadata": {},
   "outputs": [],
   "source": []
  }
 ],
 "metadata": {
  "kernelspec": {
   "display_name": "Python [conda env:base] *",
   "language": "python",
   "name": "conda-base-py"
  },
  "language_info": {
   "codemirror_mode": {
    "name": "ipython",
    "version": 3
   },
   "file_extension": ".py",
   "mimetype": "text/x-python",
   "name": "python",
   "nbconvert_exporter": "python",
   "pygments_lexer": "ipython3",
   "version": "3.13.5"
  }
 },
 "nbformat": 4,
 "nbformat_minor": 5
}
