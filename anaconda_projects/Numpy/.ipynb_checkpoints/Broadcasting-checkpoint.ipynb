{
 "cells": [
  {
   "cell_type": "code",
   "execution_count": 1,
   "id": "7d1f9b6c-0f70-4f95-aa7d-9c3ca0242768",
   "metadata": {},
   "outputs": [],
   "source": [
    "import numpy as np"
   ]
  },
  {
   "cell_type": "code",
   "execution_count": 4,
   "id": "287254b6-41f5-46d8-8ffc-6d600618f8e6",
   "metadata": {},
   "outputs": [
    {
     "name": "stdout",
     "output_type": "stream",
     "text": [
      "[[0 1 2 3]\n",
      " [4 5 6 7]]\n",
      "[[ 8  9 10 11]\n",
      " [12 13 14 15]]\n"
     ]
    }
   ],
   "source": [
    "# Scenario 1\n",
    "a1 = np.arange(8).reshape(2,4)\n",
    "a2=np.arange(8,16).reshape(2,4)\n",
    "\n",
    "print(a1)\n",
    "print(a2)"
   ]
  },
  {
   "cell_type": "code",
   "execution_count": 5,
   "id": "a03bcde2-547f-4aa5-9a0b-a97c470dd67c",
   "metadata": {},
   "outputs": [
    {
     "data": {
      "text/plain": [
       "array([[ 8, 10, 12, 14],\n",
       "       [16, 18, 20, 22]])"
      ]
     },
     "execution_count": 5,
     "metadata": {},
     "output_type": "execute_result"
    }
   ],
   "source": [
    "a1+a2"
   ]
  },
  {
   "cell_type": "code",
   "execution_count": 6,
   "id": "6fddbe2f-6af6-4876-b174-9e6abc7ff7ef",
   "metadata": {},
   "outputs": [
    {
     "name": "stdout",
     "output_type": "stream",
     "text": [
      "[[0 1 2]\n",
      " [3 4 5]\n",
      " [6 7 8]] [[0 1 2]]\n"
     ]
    }
   ],
   "source": [
    "# Scenario 2\n",
    "a3 = np.arange(9).reshape(3,3)\n",
    "a4 = np.arange(3).reshape(1,3)\n",
    "\n",
    "print(a3,a4)"
   ]
  },
  {
   "cell_type": "code",
   "execution_count": 7,
   "id": "49c5e626-fb91-46de-a191-c0bb775b1e64",
   "metadata": {},
   "outputs": [
    {
     "data": {
      "text/plain": [
       "array([[ 0,  2,  4],\n",
       "       [ 3,  5,  7],\n",
       "       [ 6,  8, 10]])"
      ]
     },
     "execution_count": 7,
     "metadata": {},
     "output_type": "execute_result"
    }
   ],
   "source": [
    "a3+a4"
   ]
  },
  {
   "cell_type": "markdown",
   "id": "c73d579e-bfa3-46e5-a0c3-454b2fd8817a",
   "metadata": {},
   "source": [
    "## Boardcasting\n",
    "The term broadcasting refers to the ability of NumPy to treat arrays of different shapes during arithmetic operations. Arithmetic operations on arrays are usually done on corresponding elements. If two arrays are of exactly the same shape, then these operations are smoothly performed.\n",
    "\n",
    "If the dimensions of two arrays are dissimilar, element-to-element operations are not possible. However, operations on arrays of non-similar shapes is still possible in NumPy, because of the broadcasting capability. The smaller array is broadcast to the size of the larger array so that they have compatible shapes."
   ]
  },
  {
   "cell_type": "markdown",
   "id": "953c58e0-b31c-40dd-b9f4-520159047ac8",
   "metadata": {},
   "source": [
    "## Rules for Broadcasting"
   ]
  },
  {
   "cell_type": "code",
   "execution_count": 8,
   "id": "6f502af3-fb97-4831-adac-78f65b19d928",
   "metadata": {},
   "outputs": [
    {
     "data": {
      "text/plain": [
       "array([[ 8, 10, 12, 14],\n",
       "       [16, 18, 20, 22]])"
      ]
     },
     "execution_count": 8,
     "metadata": {},
     "output_type": "execute_result"
    }
   ],
   "source": [
    "# If x=m and y=n, operation will take place\n",
    "a1=np.arange(8).reshape(2,4)\n",
    "a2=np.arange(8,16).reshape(2,4)\n",
    "\n",
    "a1+a2"
   ]
  },
  {
   "cell_type": "code",
   "execution_count": 9,
   "id": "bc220a80-dd3a-453a-896b-e4885053ee34",
   "metadata": {},
   "outputs": [
    {
     "name": "stdout",
     "output_type": "stream",
     "text": [
      "[[0 1 2]] [[ 0  1  2]\n",
      " [ 3  4  5]\n",
      " [ 6  7  8]\n",
      " [ 9 10 11]]\n"
     ]
    }
   ],
   "source": [
    "# If x=1 and y=n then also operation will take place(same Dimension)\n",
    "\n",
    "a5=np.arange(3).reshape(1,3)\n",
    "a6=np.arange(12).reshape(4,3)\n",
    "\n",
    "print(a5,a6)"
   ]
  },
  {
   "cell_type": "code",
   "execution_count": 10,
   "id": "912c382a-bb53-407e-8c27-d7d1465cea8e",
   "metadata": {},
   "outputs": [
    {
     "data": {
      "text/plain": [
       "array([[ 0,  2,  4],\n",
       "       [ 3,  5,  7],\n",
       "       [ 6,  8, 10],\n",
       "       [ 9, 11, 13]])"
      ]
     },
     "execution_count": 10,
     "metadata": {},
     "output_type": "execute_result"
    }
   ],
   "source": [
    "a5+a6"
   ]
  },
  {
   "cell_type": "code",
   "execution_count": 13,
   "id": "d8b30c50-2159-42a9-83a3-d09cabbcb97d",
   "metadata": {},
   "outputs": [
    {
     "name": "stdout",
     "output_type": "stream",
     "text": [
      "[[0]\n",
      " [1]\n",
      " [2]\n",
      " [3]]\n",
      "[[ 0  1  2]\n",
      " [ 3  4  5]\n",
      " [ 6  7  8]\n",
      " [ 9 10 11]]\n"
     ]
    }
   ],
   "source": [
    "#If y=1 and x=m then also operation will take place, even if\n",
    "# they are not of the same dimension\n",
    "\n",
    "a7=np.arange(4).reshape(4,1)\n",
    "a8=np.arange(12).reshape(4,3)\n",
    "\n",
    "print(a7)\n",
    "print(a8)"
   ]
  },
  {
   "cell_type": "code",
   "execution_count": 14,
   "id": "6a65d1bc-c7a5-484d-9d94-b509a0400bbf",
   "metadata": {},
   "outputs": [
    {
     "data": {
      "text/plain": [
       "array([[ 0,  1,  2],\n",
       "       [ 4,  5,  6],\n",
       "       [ 8,  9, 10],\n",
       "       [12, 13, 14]])"
      ]
     },
     "execution_count": 14,
     "metadata": {},
     "output_type": "execute_result"
    }
   ],
   "source": [
    "a7+a8"
   ]
  },
  {
   "cell_type": "code",
   "execution_count": 15,
   "id": "c02aee7b-3a81-42d4-be4c-467ceef180c1",
   "metadata": {},
   "outputs": [
    {
     "name": "stdout",
     "output_type": "stream",
     "text": [
      "[[0 1 2]]\n",
      "[[ 0  1  2  3]\n",
      " [ 4  5  6  7]\n",
      " [ 8  9 10 11]\n",
      " [12 13 14 15]]\n"
     ]
    }
   ],
   "source": [
    "# If x=1 and y!=n then also operation will not take place\n",
    "\n",
    "a9= np.arange(3).reshape(1,3)\n",
    "a10= np.arange(16).reshape(4,4)\n",
    "\n",
    "print(a9)\n",
    "print(a10)"
   ]
  },
  {
   "cell_type": "code",
   "execution_count": 16,
   "id": "17e5a14b-d266-4396-b251-87d521fd024c",
   "metadata": {},
   "outputs": [
    {
     "ename": "ValueError",
     "evalue": "operands could not be broadcast together with shapes (1,3) (4,4) ",
     "output_type": "error",
     "traceback": [
      "\u001b[1;31m---------------------------------------------------------------------------\u001b[0m",
      "\u001b[1;31mValueError\u001b[0m                                Traceback (most recent call last)",
      "Cell \u001b[1;32mIn[16], line 1\u001b[0m\n\u001b[1;32m----> 1\u001b[0m a9\u001b[38;5;241m+\u001b[39ma10\n",
      "\u001b[1;31mValueError\u001b[0m: operands could not be broadcast together with shapes (1,3) (4,4) "
     ]
    }
   ],
   "source": [
    "a9+a10"
   ]
  },
  {
   "cell_type": "code",
   "execution_count": 18,
   "id": "755daec5-fd0f-4310-bce6-8bdf7434b57f",
   "metadata": {},
   "outputs": [
    {
     "name": "stdout",
     "output_type": "stream",
     "text": [
      "[[0 1 2]]\n",
      "[[0]\n",
      " [1]\n",
      " [2]]\n"
     ]
    }
   ],
   "source": [
    "# If x=1 and n=1 then y==m operation to take place\n",
    "\n",
    "a11 = np.arange(3).reshape(1,3)\n",
    "a12 = np.arange(3).reshape(3,1)\n",
    "\n",
    "print(a11)\n",
    "print(a12)"
   ]
  },
  {
   "cell_type": "code",
   "execution_count": 19,
   "id": "278d219b-123f-475c-9fd6-b108be588387",
   "metadata": {},
   "outputs": [
    {
     "data": {
      "text/plain": [
       "array([[0, 1, 2],\n",
       "       [1, 2, 3],\n",
       "       [2, 3, 4]])"
      ]
     },
     "execution_count": 19,
     "metadata": {},
     "output_type": "execute_result"
    }
   ],
   "source": [
    "a11+a12"
   ]
  },
  {
   "cell_type": "code",
   "execution_count": 20,
   "id": "fc28f435-ae5b-4eae-87ff-0033d90c21f1",
   "metadata": {},
   "outputs": [
    {
     "name": "stdout",
     "output_type": "stream",
     "text": [
      "[[0]]\n",
      "[[ 0  1  2  3  4]\n",
      " [ 5  6  7  8  9]\n",
      " [10 11 12 13 14]\n",
      " [15 16 17 18 19]]\n"
     ]
    }
   ],
   "source": [
    "# If x=1 and y=1, then the operation will take place no matter what\n",
    "\n",
    "a13 = np.arange(1).reshape(1,1)\n",
    "a14 = np.arange(20).reshape(4,5)\n",
    "\n",
    "print(a13)\n",
    "print(a14)"
   ]
  },
  {
   "cell_type": "code",
   "execution_count": 21,
   "id": "8060dcad-cb42-47e1-ac85-4228504c6565",
   "metadata": {},
   "outputs": [
    {
     "data": {
      "text/plain": [
       "array([[ 0,  1,  2,  3,  4],\n",
       "       [ 5,  6,  7,  8,  9],\n",
       "       [10, 11, 12, 13, 14],\n",
       "       [15, 16, 17, 18, 19]])"
      ]
     },
     "execution_count": 21,
     "metadata": {},
     "output_type": "execute_result"
    }
   ],
   "source": [
    "a13+a14"
   ]
  },
  {
   "cell_type": "code",
   "execution_count": 23,
   "id": "fc02a7bd-f1cc-4ca5-a9ab-17d8c9278a90",
   "metadata": {},
   "outputs": [
    {
     "name": "stdout",
     "output_type": "stream",
     "text": [
      "[0 1 2 3]\n",
      "[[ 0  1  2  3]\n",
      " [ 4  5  6  7]\n",
      " [ 8  9 10 11]\n",
      " [12 13 14 15]\n",
      " [16 17 18 19]]\n"
     ]
    }
   ],
   "source": [
    "# If they are of different dimensions\n",
    "\n",
    "a15 = np.arange(4)\n",
    "a16 = np.arange(20).reshape(5,4)\n",
    "\n",
    "print(a15)\n",
    "print(a16)"
   ]
  },
  {
   "cell_type": "code",
   "execution_count": 24,
   "id": "982e1a19-c756-432e-a1eb-830ec15085f5",
   "metadata": {},
   "outputs": [
    {
     "data": {
      "text/plain": [
       "array([[ 0,  2,  4,  6],\n",
       "       [ 4,  6,  8, 10],\n",
       "       [ 8, 10, 12, 14],\n",
       "       [12, 14, 16, 18],\n",
       "       [16, 18, 20, 22]])"
      ]
     },
     "execution_count": 24,
     "metadata": {},
     "output_type": "execute_result"
    }
   ],
   "source": [
    "a15+a16"
   ]
  },
  {
   "cell_type": "code",
   "execution_count": null,
   "id": "834e5937-39c7-4ded-9193-e656f0f8cebf",
   "metadata": {},
   "outputs": [],
   "source": []
  }
 ],
 "metadata": {
  "kernelspec": {
   "display_name": "Python [conda env:base] *",
   "language": "python",
   "name": "conda-base-py"
  },
  "language_info": {
   "codemirror_mode": {
    "name": "ipython",
    "version": 3
   },
   "file_extension": ".py",
   "mimetype": "text/x-python",
   "name": "python",
   "nbconvert_exporter": "python",
   "pygments_lexer": "ipython3",
   "version": "3.13.5"
  }
 },
 "nbformat": 4,
 "nbformat_minor": 5
}
