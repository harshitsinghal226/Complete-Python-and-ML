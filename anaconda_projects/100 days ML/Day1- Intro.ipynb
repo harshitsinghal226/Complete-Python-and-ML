{
 "cells": [
  {
   "cell_type": "code",
   "execution_count": 2,
   "id": "29f8180e-7381-45d2-b134-aac614d2c642",
   "metadata": {},
   "outputs": [],
   "source": [
    "a = 1"
   ]
  },
  {
   "cell_type": "code",
   "execution_count": 3,
   "id": "9e2fcb45-958a-4e1c-8d1b-185e265234e5",
   "metadata": {},
   "outputs": [
    {
     "name": "stdout",
     "output_type": "stream",
     "text": [
      "1\n"
     ]
    }
   ],
   "source": [
    "print(a)"
   ]
  },
  {
   "cell_type": "code",
   "execution_count": 4,
   "id": "b4df256b-c14f-4ff9-8b58-094ca2c22522",
   "metadata": {},
   "outputs": [],
   "source": [
    "a = \"harshit\""
   ]
  },
  {
   "cell_type": "code",
   "execution_count": 8,
   "id": "9f4c0a89-394c-46a1-81a5-5e5f9c072969",
   "metadata": {},
   "outputs": [
    {
     "name": "stdout",
     "output_type": "stream",
     "text": [
      "<class 'str'>\n",
      "harshit\n"
     ]
    },
    {
     "data": {
      "text/plain": [
       "str"
      ]
     },
     "execution_count": 8,
     "metadata": {},
     "output_type": "execute_result"
    }
   ],
   "source": [
    "print(type(a))\n",
    "print(a)\n",
    "type(a)"
   ]
  },
  {
   "cell_type": "code",
   "execution_count": null,
   "id": "f9e16330-af63-4a87-b3e3-93d619f0cb5b",
   "metadata": {},
   "outputs": [],
   "source": []
  }
 ],
 "metadata": {
  "kernelspec": {
   "display_name": "Python [conda env:base] *",
   "language": "python",
   "name": "conda-base-py"
  },
  "language_info": {
   "codemirror_mode": {
    "name": "ipython",
    "version": 3
   },
   "file_extension": ".py",
   "mimetype": "text/x-python",
   "name": "python",
   "nbconvert_exporter": "python",
   "pygments_lexer": "ipython3",
   "version": "3.13.5"
  }
 },
 "nbformat": 4,
 "nbformat_minor": 5
}
